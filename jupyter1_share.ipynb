{
 "cells": [
  {
   "cell_type": "markdown",
   "metadata": {},
   "source": [
    "A palindromic number reads the same both ways. The largest palindrome made from the product of two 2-digit numbers is 9009 = 91 × 99.\n",
    "\n",
    "Find the largest palindrome made from the product of two 3-digit numbers."
   ]
  },
  {
   "cell_type": "code",
   "execution_count": 5,
   "metadata": {
    "scrolled": false
   },
   "outputs": [
    {
     "name": "stdout",
     "output_type": "stream",
     "text": [
      "[11211, 12221, 13231, 14241, 15251, 16261, 17271, 18281, 19291, 20402, 21412, 22422, 23432, 24442, 25452, 26462, 27472, 28482, 29492, 30603, 31613, 32623, 33633, 34643, 35653, 36663, 37673, 38683, 39693, 40804, 41814, 42824, 43834, 44844, 45854, 46864, 47874, 48884, 49894]\n"
     ]
    }
   ],
   "source": [
    "# Package time\n",
    "\n",
    "import time\n",
    "\n",
    "start = time.time()\n",
    "\n",
    "# Algorithm\n",
    "\n",
    "import numpy as np\n",
    "seq = np.arange(100, 1000, 1)[np.newaxis]\n",
    "matrix_prod = seq*seq.T\n",
    "answer_vector = []\n",
    "\n",
    "for i in range(0, len(matrix_prod)-1, 1):\n",
    "    for j in range(0, len(matrix_prod)-1, 1):\n",
    "        if len(str(matrix_prod[i,j])) == 5:\n",
    "            if str(matrix_prod[i,j])[0] == str(matrix_prod[i,j])[4] and str(matrix_prod[i,j])[1] == str(matrix_prod[i,j])[3]:\n",
    "                answer_vector.append(matrix_prod[i,j])\n",
    "            else:\n",
    "                pass\n",
    "        else:\n",
    "            if str(matrix_prod[i,j])[0] == str(matrix_prod[i,j])[5] and str(matrix_prod[i,j])[1] == str(matrix_prod[i,j])[4] and str(matrix_prod[i,j])[2] == str(matrix_prod[i,j])[3]:\n",
    "                answer_vector.append(matrix_prod[i,j])\n",
    "            else:\n",
    "                pass\n",
    "\n",
    "# Print first 40 elements\n",
    "\n",
    "print(answer_vector[1:40])\n",
    "\n",
    "\n",
    "# End\n",
    "\n",
    "end = time.time()\n"
   ]
  },
  {
   "cell_type": "code",
   "execution_count": 6,
   "metadata": {},
   "outputs": [
    {
     "name": "stdout",
     "output_type": "stream",
     "text": [
      "The max value is: 906609\n",
      "time: 2.361721992492676\n"
     ]
    }
   ],
   "source": [
    "# Maximum value\n",
    "\n",
    "print(\"The max value is: \" + str(max(answer_vector)))\n",
    "\n",
    "# Running time\n",
    "\n",
    "print(\"time: \" + str(end - start))"
   ]
  },
  {
   "cell_type": "markdown",
   "metadata": {},
   "source": [
    "Since the the product is either a five-digit or a six-digit number, we need to break into two cases. \n",
    "\n",
    "The algorithm takes each element of the matrix and evaluate if it satisfies the conditons of a palindromic number based on its length. If it does, then the number is added on the variable answer_vector. Otherwise, the algorithm moves to the next number. \n",
    "    \n"
   ]
  },
  {
   "cell_type": "code",
   "execution_count": null,
   "metadata": {},
   "outputs": [],
   "source": []
  }
 ],
 "metadata": {
  "kernelspec": {
   "display_name": "Python 3",
   "language": "python",
   "name": "python3"
  },
  "language_info": {
   "codemirror_mode": {
    "name": "ipython",
    "version": 3
   },
   "file_extension": ".py",
   "mimetype": "text/x-python",
   "name": "python",
   "nbconvert_exporter": "python",
   "pygments_lexer": "ipython3",
   "version": "3.6.5"
  }
 },
 "nbformat": 4,
 "nbformat_minor": 1
}
