{
 "cells": [
  {
   "cell_type": "markdown",
   "metadata": {},
   "source": [
    "# Numerical Methods"
   ]
  },
  {
   "cell_type": "markdown",
   "metadata": {},
   "source": [
    "Name: Francis Araújo"
   ]
  },
  {
   "cell_type": "markdown",
   "metadata": {},
   "source": [
    "**Keywords:** Bisection Method,  Newton-Raphson Method"
   ]
  },
  {
   "cell_type": "markdown",
   "metadata": {},
   "source": [
    "# Bisection Method"
   ]
  },
  {
   "cell_type": "markdown",
   "metadata": {},
   "source": [
    "**Definition:** The bisection method consists of sucessive approximations to narrows down an interval which contains the root of the function by selecting the subinterval that the function changes sign."
   ]
  },
  {
   "cell_type": "markdown",
   "metadata": {},
   "source": [
    "**Theorem:** Let $A \\subseteq R$. If $f : A → R$ is a continuous function and there exist $ \\underline{x} \\in A$ and $\\overline{x} \\in A$ such that: \n",
    "\n",
    "- $ \\underline{x} < \\overline{x} $\n",
    "- $f(\\underline{x})f(\\overline{x}) < 0 $\n",
    "\n",
    "Then, $ \\exists$ $\\tilde{x} \\in [\\underline{x},\\overline{x}]$ such that $ f(\\tilde{x}) = 0$. If $ f'(x) < 0$ $\\forall x \\in A $, then the solution is unique."
   ]
  },
  {
   "cell_type": "code",
   "execution_count": 1,
   "metadata": {},
   "outputs": [],
   "source": [
    "# Import package\n",
    "import numpy as np\n",
    "import math\n",
    "import sympy # Calculus \n",
    "from sympy import *\n",
    "import time\n",
    "import matplotlib.pyplot as plt"
   ]
  },
  {
   "cell_type": "code",
   "execution_count": 2,
   "metadata": {},
   "outputs": [],
   "source": [
    "# STANDARD BISECTION METHOD (HALF-INTERVAL SEARCH)\n",
    "\n",
    "def stand_bisection_method(f, lower, upper, error=math.exp(-10)):\n",
    "    if f(lower)*f(upper) > 0:\n",
    "        print('Bisection Method fails. Please find a and b such that f(a) < 0 < f(b)')\n",
    "    elif f(lower)*f(upper) == 0:\n",
    "        print('Either one or both numbers are root of the polynomial. No need to apply the method.')\n",
    "    else:\n",
    "        while abs(upper - lower) > error:\n",
    "            x_m = 0.5*(lower + upper)\n",
    "            print(f'Current middle point = {x_m}')\n",
    "            if f(x_m) == 0:\n",
    "                break\n",
    "            elif f(x_m) < 0:\n",
    "                lower = x_m\n",
    "            else:\n",
    "                upper = x_m"
   ]
  },
  {
   "cell_type": "markdown",
   "metadata": {},
   "source": [
    "Let's evaluate the method perfomance for a function defined as:"
   ]
  },
  {
   "cell_type": "markdown",
   "metadata": {},
   "source": [
    "$$f(x) = x^{3} \\cdot exp(-x^{2}) + sin(x^{2})$$"
   ]
  },
  {
   "cell_type": "code",
   "execution_count": 3,
   "metadata": {},
   "outputs": [
    {
     "name": "stdout",
     "output_type": "stream",
     "text": [
      "Current middle point = -0.75\n",
      "Current middle point = -1.625\n",
      "Current middle point = -2.0625\n",
      "Current middle point = -1.84375\n",
      "Current middle point = -1.734375\n",
      "Current middle point = -1.6796875\n",
      "Current middle point = -1.70703125\n",
      "Current middle point = -1.693359375\n",
      "Current middle point = -1.6865234375\n",
      "Current middle point = -1.68994140625\n",
      "Current middle point = -1.691650390625\n",
      "Current middle point = -1.6907958984375\n",
      "Current middle point = -1.69122314453125\n",
      "Current middle point = -1.691436767578125\n",
      "Current middle point = -1.6915435791015625\n",
      "Current middle point = -1.6914901733398438\n",
      "Current middle point = -1.6914634704589844\n"
     ]
    }
   ],
   "source": [
    "stand_bisection_method(f = lambda x: x**3*math.exp(-x**2) + np.sin(x**2), lower = -2.5, upper = 1)"
   ]
  },
  {
   "cell_type": "markdown",
   "metadata": {},
   "source": [
    "Note, however, that the procedure does not guarantee the uniqueness of a solution."
   ]
  },
  {
   "cell_type": "markdown",
   "metadata": {},
   "source": [
    "We can also use the bisection method to optimize functions whose solutions lie inside the feasible region."
   ]
  },
  {
   "cell_type": "code",
   "execution_count": 4,
   "metadata": {},
   "outputs": [],
   "source": [
    "# LOCAL MAXIMUM/MINIMUM BISECTION METHOD (HALF-INTERVAL SEARCH)\n",
    "\n",
    "def max_bisection_method(f, lower, upper, error=math.exp(-10)):\n",
    "    x = symbols('x')\n",
    "    f = sympy.sympify(f)\n",
    "    f_prime = sympy.diff(f,x)\n",
    "    f_double_prime = sympy.diff(f,x,2)\n",
    "    if f_prime.evalf(subs={x: lower}) > 0 and f_prime.evalf(subs={x: upper}) < 0 and f_double_prime.evalf(subs={x: upper}) < 0 and f_double_prime.evalf(subs={x: upper}) < 0:  # Check if there is a maximum between two points\n",
    "        if abs(upper-lower) < error:\n",
    "            return   0.5 * (upper + lower), f.evalf(subs={x: 0.5 * (upper + lower) })\n",
    "        else:\n",
    "            middle = 0.5 * (upper + lower)\n",
    "            if f_prime.evalf(subs={x: middle})*f_prime.evalf(subs={x: lower}) < 0:  # Maximum is btw lower and middle\n",
    "                return max_bisection_method(f, lower, middle)\n",
    "            else:  # Maximum is btw middle and upper\n",
    "                return max_bisection_method(f, middle, upper)\n",
    "    elif f_prime.evalf(subs={x: lower}) < 0 and f_prime.evalf(subs={x: upper}) > 0 and f_double_prime.evalf(subs={x: upper}) > 0 and f_double_prime.evalf(subs={x: upper}) > 0:  # Check if there is a minimum between two points\n",
    "        if abs(upper - lower) < error:\n",
    "            return 0.5 * (upper + lower), f.evalf(subs={x: 0.5 * (upper + lower) })\n",
    "        else:\n",
    "            middle = 0.5 * (upper + lower)\n",
    "            if f_prime.evalf(subs={x: middle})*f_prime.evalf(subs={x: lower}) < 0:  # Minimum is btw lower and middle\n",
    "                return max_bisection_method(f, lower, middle)\n",
    "            else:  # Minimum is btw middle and upper\n",
    "                return max_bisection_method(f, middle, upper)\n",
    "    else:  # Otherwise\n",
    "        print('Conditions are not satisfied.')"
   ]
  },
  {
   "cell_type": "markdown",
   "metadata": {},
   "source": [
    "Note that the approach is slightly different from the previous example. In this case, there is a function inside another function in order to avoid the while loop."
   ]
  },
  {
   "cell_type": "markdown",
   "metadata": {},
   "source": [
    "__Target function:__ $$f(x) = x^{3} \\cdot exp(-x^{2})$$"
   ]
  },
  {
   "cell_type": "code",
   "execution_count": 16,
   "metadata": {},
   "outputs": [
    {
     "data": {
      "image/png": "[encoded data removed]",
      "text/plain": [
       "<Figure size 504x504 with 1 Axes>"
      ]
     },
     "metadata": {},
     "output_type": "display_data"
    }
   ],
   "source": [
    "# Plot\n",
    "implemented_function = 'exp(-1*x**2)*x**3'\n",
    "g1 = np.arange(0, 3, 0.1) # Define the Grid\n",
    "y1 = np.exp(-1*g1**2)*g1**3\n",
    "implemented_function = 'exp(-1*x**2)*x**3'\n",
    "x_max = max_bisection_method(f = implemented_function, lower = 0.5, upper = 1.3)[0]\n",
    "y_max = max_bisection_method(f = implemented_function, lower = 0.5, upper = 1.3)[1]\n",
    "plt.plot(g1, y1)\n",
    "plt.title('Figure: Bisection Method (max)')\n",
    "plt.axhline(y=y_max, color='black', linestyle='-')\n",
    "plt.annotate('local max', xy=(x_max, y_max), xytext=(x_max + 0.8, y_max - 0.25),\n",
    "             arrowprops=dict(facecolor='black', shrink=0.07),)\n",
    "plt.style.use('ggplot')\n",
    "plt.rcParams['figure.figsize'] = [7, 7]\n",
    "plt.show()"
   ]
  },
  {
   "cell_type": "markdown",
   "metadata": {},
   "source": [
    "However, the previous method is not able to compute the local optimal value when the derivative is not well-defined.\n",
    "\n",
    "Alternatively, someone could redefine the algorithm to compute global maximum. The initial conditions are supposed to be:\n",
    "\n",
    "- $ x_1 < x_2 < x_3$\n",
    "- $ f(x_2) > f(x_1)$\n",
    "- $ f(x_2) > f(x_3) $\n",
    "\n",
    "\n",
    "Those conditions are essential to rule out the possibility of the optimal values occur at the boundaries."
   ]
  },
  {
   "cell_type": "code",
   "execution_count": 6,
   "metadata": {},
   "outputs": [],
   "source": [
    "# GLOBAL MAXIMUM BISECTION METHOD (HALF-INTERVAL SEARCH)\n",
    "\n",
    "def global_bisection_method(f, first_x, second_x, third_x, error=math.exp(-10)):\n",
    "    # User input in a list\n",
    "    x_order = []\n",
    "    x_order.append(first_x)\n",
    "    x_order.append(second_x)\n",
    "    x_order.append(third_x)\n",
    "    # Sort list in ascending order\n",
    "    x_order.sort()\n",
    "    x_1 = x_order[0]\n",
    "    x_2 = x_order[1]\n",
    "    x_3 = x_order[2]\n",
    "    if f(x_2) > f(x_1) and f(x_2) > f(x_3):\n",
    "        while abs(x_1 - x_3) > error:\n",
    "            x_M1 = 0.5*(x_1 + x_2)\n",
    "            x_M2 = 0.5*(x_2 + x_3)\n",
    "            if f(x_2) > f(x_M1) and f(x_2) > f(x_M2):\n",
    "                x_1 = x_M1\n",
    "                x_3 = x_M2\n",
    "            elif f(x_M2) > f(x_2) and f(x_M2) > f(x_M1):\n",
    "                x_1 = x_2\n",
    "                x_2 = x_M2\n",
    "            else:\n",
    "                x_3 = x_2\n",
    "                x_2 = x_M1\n",
    "\n",
    "        print(0.5*(x_1 + x_3))\n",
    "    else:\n",
    "        print('Bisection method fails')"
   ]
  },
  {
   "cell_type": "markdown",
   "metadata": {},
   "source": [
    "__Target function:__ $$f(x) = x^{3} - 6x^{2} -15x + 8$$"
   ]
  },
  {
   "cell_type": "code",
   "execution_count": 7,
   "metadata": {},
   "outputs": [
    {
     "name": "stdout",
     "output_type": "stream",
     "text": [
      "-1.0000000116880983\n"
     ]
    }
   ],
   "source": [
    "global_bisection_method(f = lambda x: x**3 - 6*x**2 -15*x + 8, first_x = -2, second_x=0.1, third_x = 6, error=math.exp(-20))"
   ]
  },
  {
   "cell_type": "markdown",
   "metadata": {},
   "source": [
    "# Newton-Raphson Method"
   ]
  },
  {
   "cell_type": "markdown",
   "metadata": {},
   "source": [
    "**Definition:** This root-finding algorithm produces better approximations to the root of a real-valued function considering the intersection of x-axis and the tangent of the graph."
   ]
  },
  {
   "cell_type": "markdown",
   "metadata": {},
   "source": [
    "The method can be derived as follows:\n",
    "    \n",
    "Applying the first-order taylor approximation around $ x_0 $\n",
    "\n",
    "$$ f(x) \\approx f\\left(x_{0}\\right)+f^{\\prime}\\left(x_{0}\\right)\\left(x-x_{0}\\right)$$"
   ]
  },
  {
   "cell_type": "markdown",
   "metadata": {},
   "source": [
    "Setting $f(x) = 0$ and solving for x"
   ]
  },
  {
   "cell_type": "markdown",
   "metadata": {},
   "source": [
    "\\begin{array}{c}{0=f\\left(x_{0}\\right)+f^{\\prime}\\left(x_{0}\\right)\\left(x-x_{0}\\right)} \\\\ {f^{\\prime}\\left(x_{0}\\right)\\left(x-x_{0}\\right)=-f\\left(x_{0}\\right)} \\\\ {x-x_{0}=-\\frac{f\\left(x_{0}\\right)}{f^{\\prime}\\left(x_{0}\\right)}} \\\\ {x=x_{0}-\\frac{f\\left(x_{0}\\right)}{f^{\\prime}\\left(x_{0}\\right)}}\\end{array}"
   ]
  },
  {
   "cell_type": "code",
   "execution_count": 8,
   "metadata": {},
   "outputs": [],
   "source": [
    "# Parameters\n",
    "# max_Iter = Maximum number of Iterations\n",
    "# Iter = Current \n",
    "# x_0 = initial value\n",
    "# f = function\n",
    "# epsilon = error tolerance\n",
    "\n",
    "# X values list\n",
    "value = []\n",
    "\n",
    "def newton_raphson(f, x_0, max_Iter, epsilon = math.exp(-10) ):\n",
    "    x = symbols('x')\n",
    "    f = sympy.sympify(f)\n",
    "    f_prime = sympy.diff(f,x)\n",
    "    Iter = 0\n",
    "    if abs(f.evalf(subs={x: x_0})) < epsilon:\n",
    "        return x_0\n",
    "    else:\n",
    "        while Iter < max_Iter and abs(f.evalf(subs={x: x_0})) > epsilon:\n",
    "            x_new = x_0 - f.evalf(subs={x: x_0})/f_prime.evalf(subs={x: x_0})\n",
    "            value.append(x_new)\n",
    "            x_0 = x_new  # Redefine variables inside the loop\n",
    "            Iter = Iter + 1\n",
    "\n",
    "        return value"
   ]
  },
  {
   "cell_type": "markdown",
   "metadata": {},
   "source": [
    "__Target function:__ $$ sin[4 \\cdot (x - \\frac{1}{4})] + x + x^{20} - 1  $$"
   ]
  },
  {
   "cell_type": "code",
   "execution_count": 9,
   "metadata": {},
   "outputs": [
    {
     "name": "stdout",
     "output_type": "stream",
     "text": [
      "[0.402970584841736, 0.408262736124847, 0.408293503218815]\n"
     ]
    }
   ],
   "source": [
    "print(newton_raphson(f = 'sin(4 * (x - 1/4)) + x + x**20 - 1', x_0 = 0.2 , max_Iter = 25))"
   ]
  },
  {
   "cell_type": "markdown",
   "metadata": {},
   "source": [
    "However, If the initial value $x_0$ is 0.7, it leads to failure of convergence. Take a look at the last 6 elements."
   ]
  },
  {
   "cell_type": "code",
   "execution_count": 10,
   "metadata": {},
   "outputs": [
    {
     "name": "stdout",
     "output_type": "stream",
     "text": [
      "[-1.12524205622660, -1.07551192375073, -1.03573190690332, -1.01118321640315, -1.00300504085853, -1.00225273554209]\n"
     ]
    }
   ],
   "source": [
    "print(newton_raphson(f = 'sin(4 * (x - 1/4)) + x + x**20 - 1', x_0 = 0.7 , max_Iter = 70)[-7:-1])"
   ]
  }
 ],
 "metadata": {
  "kernelspec": {
   "display_name": "Python 3",
   "language": "python",
   "name": "python3"
  },
  "language_info": {
   "codemirror_mode": {
    "name": "ipython",
    "version": 3
   },
   "file_extension": ".py",
   "mimetype": "text/x-python",
   "name": "python",
   "nbconvert_exporter": "python",
   "pygments_lexer": "ipython3",
   "version": "3.7.3"
  }
 },
 "nbformat": 4,
 "nbformat_minor": 2
}
